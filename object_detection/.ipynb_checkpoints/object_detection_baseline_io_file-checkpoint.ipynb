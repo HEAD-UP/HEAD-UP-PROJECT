{
 "cells": [
  {
   "cell_type": "markdown",
   "metadata": {},
   "source": [
    "# Imports"
   ]
  },
  {
   "cell_type": "code",
   "execution_count": 28,
   "metadata": {
    "scrolled": true
   },
   "outputs": [],
   "source": [
    "import numpy as np\n",
    "import os\n",
    "import six.moves.urllib as urllib\n",
    "import sys\n",
    "import tarfile\n",
    "import tensorflow as tf\n",
    "import zipfile\n",
    "import cv2\n",
    "import json\n",
    "import time\n",
    "import asyncio\n",
    "\n",
    "from collections import defaultdict\n",
    "from io import StringIO\n",
    "from matplotlib import pyplot as plt\n",
    "from PIL import Image\n",
    "\n",
    "if tf.__version__ < '1.4.0':\n",
    "  raise ImportError('Please upgrade your tensorflow installation to v1.4.* or later!')\n"
   ]
  },
  {
   "cell_type": "markdown",
   "metadata": {},
   "source": [
    "# Camera ID Setup and inputVideo (for Stored Version) Setup"
   ]
  },
  {
   "cell_type": "code",
   "execution_count": 29,
   "metadata": {},
   "outputs": [],
   "source": [
    "camera_id = 1\n",
    "\n",
    "# Windows\n",
    "inputVideo = \".\\\\video_samples\\\\s1_b.mp4\"\n",
    "\n",
    "# Rasbpian \n",
    "inputVideo = \"./video_samples/s1_b.mp4\""
   ]
  },
  {
   "cell_type": "markdown",
   "metadata": {},
   "source": [
    "## Env setup"
   ]
  },
  {
   "cell_type": "code",
   "execution_count": 30,
   "metadata": {},
   "outputs": [],
   "source": [
    "# This is needed to display the images.\n",
    "%matplotlib inline\n",
    "\n",
    "# This is needed since the notebook is stored in the object_detection folder.\n",
    "sys.path.append(\"..\")"
   ]
  },
  {
   "cell_type": "markdown",
   "metadata": {},
   "source": [
    "## Object detection imports\n",
    "Here are the imports from the object detection module."
   ]
  },
  {
   "cell_type": "code",
   "execution_count": 31,
   "metadata": {},
   "outputs": [],
   "source": [
    "from utils import label_map_util\n",
    "\n",
    "from utils import visualization_utils as vis_util"
   ]
  },
  {
   "cell_type": "markdown",
   "metadata": {},
   "source": [
    "# Model preparation "
   ]
  },
  {
   "cell_type": "markdown",
   "metadata": {},
   "source": [
    "## Variables\n",
    "\n",
    "Any model exported using the `export_inference_graph.py` tool can be loaded here simply by changing `PATH_TO_CKPT` to point to a new .pb file.  \n",
    "\n",
    "By default we use an \"SSD with Mobilenet\" model here. See the [detection model zoo](https://github.com/tensorflow/models/blob/master/research/object_detection/g3doc/detection_model_zoo.md) for a list of other models that can be run out-of-the-box with varying speeds and accuracies."
   ]
  },
  {
   "cell_type": "code",
   "execution_count": 32,
   "metadata": {},
   "outputs": [],
   "source": [
    "# What model to download.\n",
    "MODEL_NAME = 'ssd_mobilenet_v1_coco_2017_11_17'\n",
    "#MODEL_FILE = MODEL_NAME + '.tar.gz'\n",
    "#DOWNLOAD_BASE = 'http://download.tensorflow.org/models/object_detection/'\n",
    "\n",
    "# Path to frozen detection graph. This is the actual model that is used for the object detection.\n",
    "PATH_TO_CKPT = MODEL_NAME + '/frozen_inference_graph.pb'\n",
    "\n",
    "# List of the strings that is used to add correct label for each box.\n",
    "PATH_TO_LABELS = os.path.join('data', 'mscoco_label_map.pbtxt')\n",
    "\n",
    "NUM_CLASSES = 90"
   ]
  },
  {
   "cell_type": "markdown",
   "metadata": {},
   "source": [
    "## Download Model"
   ]
  },
  {
   "cell_type": "markdown",
   "metadata": {},
   "source": [
    "opener = urllib.request.URLopener()\n",
    "opener.retrieve(DOWNLOAD_BASE + MODEL_FILE, MODEL_FILE)\n",
    "tar_file = tarfile.open(MODEL_FILE)\n",
    "for file in tar_file.getmembers():\n",
    "  file_name = os.path.basename(file.name)\n",
    "  if 'frozen_inference_graph.pb' in file_name:\n",
    "    tar_file.extract(file, os.getcwd())"
   ]
  },
  {
   "cell_type": "markdown",
   "metadata": {},
   "source": [
    "## Load a (frozen) Tensorflow model into memory."
   ]
  },
  {
   "cell_type": "code",
   "execution_count": 33,
   "metadata": {},
   "outputs": [],
   "source": [
    "detection_graph = tf.Graph()\n",
    "with detection_graph.as_default():\n",
    "    od_graph_def = tf.compat.v1.GraphDef()\n",
    "    with tf.io.gfile.GFile(PATH_TO_CKPT, 'rb') as fid:\n",
    "        serialized_graph = fid.read()\n",
    "        od_graph_def.ParseFromString(serialized_graph)\n",
    "        tf.import_graph_def(od_graph_def, name='')"
   ]
  },
  {
   "cell_type": "markdown",
   "metadata": {},
   "source": [
    "## Loading label map\n",
    "Label maps map indices to category names, so that when our convolution network predicts `5`, we know that this corresponds to `airplane`.  Here we use internal utility functions, but anything that returns a dictionary mapping integers to appropriate string labels would be fine"
   ]
  },
  {
   "cell_type": "code",
   "execution_count": 34,
   "metadata": {},
   "outputs": [],
   "source": [
    "label_map = label_map_util.load_labelmap(PATH_TO_LABELS)\n",
    "categories = label_map_util.convert_label_map_to_categories(label_map, max_num_classes=NUM_CLASSES, use_display_name=True)\n",
    "category_index = label_map_util.create_category_index(categories)"
   ]
  },
  {
   "cell_type": "markdown",
   "metadata": {},
   "source": [
    "# Object tracking function"
   ]
  },
  {
   "cell_type": "code",
   "execution_count": 35,
   "metadata": {},
   "outputs": [],
   "source": [
    "def get_distance_from_line(x1, y1, a, b, c):\n",
    "    return (a*x1 + b*y1 + c) / (((a ** 2) + (b ** 2)) ** 0.5)"
   ]
  },
  {
   "cell_type": "markdown",
   "metadata": {},
   "source": [
    "# Waring signal function"
   ]
  },
  {
   "cell_type": "code",
   "execution_count": 36,
   "metadata": {},
   "outputs": [],
   "source": [
    "standard_distance = 0.03\n",
    "\n",
    "def get_warning_signal(input_distance, input_class):\n",
    "    if standard_distance > input_distance:\n",
    "        if input_class == 'person':\n",
    "            return 0\n",
    "        else:\n",
    "            return 1\n",
    "    return -1"
   ]
  },
  {
   "cell_type": "markdown",
   "metadata": {},
   "source": [
    "# ---------------------- [Warning] ----------------------\n",
    "# From this cell, work locally"
   ]
  },
  {
   "cell_type": "markdown",
   "metadata": {},
   "source": [
    "# Read Line Point from File (Video Version)"
   ]
  },
  {
   "cell_type": "code",
   "execution_count": 37,
   "metadata": {},
   "outputs": [],
   "source": [
    "baseline_x = [0 for _ in range(2)]\n",
    "baseline_y = [0 for _ in range(2)]"
   ]
  },
  {
   "cell_type": "code",
   "execution_count": 38,
   "metadata": {},
   "outputs": [],
   "source": [
    "f = open(\"output_video_ipython.txt\", 'r')\n",
    "f_data = f.read()\n",
    "f.close()\n",
    "f_data = f_data.split()\n",
    "\n",
    "a = float(f_data[0])\n",
    "b = float(f_data[1])\n",
    "c = float(f_data[2])\n",
    "baseline_x[0] = int(f_data[3])\n",
    "baseline_x[1] = int(f_data[4])\n",
    "baseline_y[0] = int(f_data[5])\n",
    "baseline_y[1] = int(f_data[6])"
   ]
  },
  {
   "cell_type": "markdown",
   "metadata": {},
   "source": [
    "# Object Tracking (Video Version)"
   ]
  },
  {
   "cell_type": "code",
   "execution_count": 39,
   "metadata": {},
   "outputs": [
    {
     "name": "stdout",
     "output_type": "stream",
     "text": [
      "{\"Camera_ID\": 1, \"Value\": -1}\n",
      "\n",
      "{\"Camera_ID\": 1, \"Value\": -1}\n",
      "\n",
      "{\"Camera_ID\": 1, \"Value\": -1}\n",
      "\n",
      "{\"Camera_ID\": 1, \"Value\": -1}\n",
      "\n",
      "{\"Camera_ID\": 1, \"Value\": -1}\n",
      "\n",
      "{\"Camera_ID\": 1, \"Value\": -1}\n",
      "\n",
      "{\"Camera_ID\": 1, \"Value\": -1}\n",
      "\n",
      "{\"Camera_ID\": 1, \"Value\": -1}\n",
      "\n",
      "{\"Camera_ID\": 1, \"Value\": -1}\n",
      "\n",
      "{\"Camera_ID\": 1, \"Value\": -1}\n",
      "\n",
      "{\"Camera_ID\": 1, \"Value\": -1}\n",
      "\n",
      "{\"Camera_ID\": 1, \"Value\": -1}\n",
      "\n",
      "{\"Camera_ID\": 1, \"Value\": -1}\n",
      "\n",
      "{\"Camera_ID\": 1, \"Value\": -1}\n",
      "\n",
      "{\"Camera_ID\": 1, \"Value\": -1}\n",
      "\n",
      "{\"Camera_ID\": 1, \"Value\": -1}\n",
      "\n",
      "{\"Camera_ID\": 1, \"Value\": -1}\n",
      "\n",
      "{\"Camera_ID\": 1, \"Value\": -1}\n",
      "\n",
      "{\"Camera_ID\": 1, \"Value\": -1}\n",
      "\n",
      "{\"Camera_ID\": 1, \"Value\": -1}\n",
      "\n",
      "{\"Camera_ID\": 1, \"Value\": -1}\n",
      "\n",
      "{\"Camera_ID\": 1, \"Value\": -1}\n",
      "\n",
      "{\"Camera_ID\": 1, \"Value\": -1}\n",
      "\n",
      "{\"Camera_ID\": 1, \"Value\": -1}\n",
      "\n",
      "{\"Camera_ID\": 1, \"Value\": -1}\n",
      "\n",
      "{\"Camera_ID\": 1, \"Value\": -1}\n",
      "\n",
      "{\"Camera_ID\": 1, \"Value\": -1}\n",
      "\n",
      "{\"Camera_ID\": 1, \"Value\": -1}\n",
      "\n",
      "{\"Camera_ID\": 1, \"Value\": -1}\n",
      "\n",
      "{\"Camera_ID\": 1, \"Value\": -1}\n",
      "\n",
      "{\"Camera_ID\": 1, \"Value\": -1}\n",
      "\n",
      "{\"Camera_ID\": 1, \"Value\": -1}\n",
      "\n",
      "{\"Camera_ID\": 1, \"Value\": -1}\n",
      "\n",
      "{\"Camera_ID\": 1, \"Value\": -1}\n",
      "\n",
      "{\"Camera_ID\": 1, \"Value\": -1}\n",
      "\n",
      "{\"Camera_ID\": 1, \"Value\": -1}\n",
      "\n",
      "{\"Camera_ID\": 1, \"Value\": -1}\n",
      "\n",
      "{\"Camera_ID\": 1, \"Value\": -1}\n",
      "\n",
      "{\"Camera_ID\": 1, \"Value\": -1}\n",
      "\n",
      "{\"Camera_ID\": 1, \"Value\": -1}\n",
      "\n",
      "{\"Camera_ID\": 1, \"Value\": -1}\n",
      "\n",
      "{\"Camera_ID\": 1, \"Value\": -1}\n",
      "\n",
      "{\"Camera_ID\": 1, \"Value\": -1}\n",
      "\n",
      "{\"Camera_ID\": 1, \"Value\": -1}\n",
      "\n",
      "{\"Camera_ID\": 1, \"Value\": -1}\n",
      "\n"
     ]
    }
   ],
   "source": [
    "cap = cv2.VideoCapture(inputVideo)\n",
    "signal = -1\n",
    "time_signal = -1\n",
    "time_value = time.time()\n",
    "\n",
    "with detection_graph.as_default():\n",
    "    with tf.compat.v1.Session(graph=detection_graph) as sess:\n",
    "        ret = True\n",
    "        while (ret):\n",
    "            ret, image_np = cap.read()\n",
    "            # Definite input and output Tensors for detection_graph\n",
    "            image_tensor = detection_graph.get_tensor_by_name('image_tensor:0')\n",
    "            # Each box represents a part of the image where a particular object was detected.\n",
    "            detection_boxes = detection_graph.get_tensor_by_name('detection_boxes:0')\n",
    "            # Each score represent how level of confidence for each of the objects.\n",
    "            # Score is shown on the result image, together with the class label.\n",
    "            detection_scores = detection_graph.get_tensor_by_name('detection_scores:0')\n",
    "            detection_classes = detection_graph.get_tensor_by_name('detection_classes:0')\n",
    "            num_detections = detection_graph.get_tensor_by_name('num_detections:0')\n",
    "\n",
    "            # Expand dimensions since the model expects images to have shape: [1, None, None, 3]\n",
    "            image_np_expanded = np.expand_dims(image_np, axis=0)\n",
    "            # Actual detection.\n",
    "            (boxes, scores, classes, num) = sess.run(\n",
    "                [detection_boxes, detection_scores, detection_classes, num_detections],\n",
    "                feed_dict={image_tensor: image_np_expanded})\n",
    "            # Visualization of the results of a detection.\n",
    "            vis_util.visualize_boxes_and_labels_on_image_array(\n",
    "                image_np,\n",
    "                np.squeeze(boxes),\n",
    "                np.squeeze(classes).astype(np.int32),\n",
    "                np.squeeze(scores),\n",
    "                category_index,\n",
    "                use_normalized_coordinates=True,\n",
    "                line_thickness=8)\n",
    "\n",
    "            for index, value in enumerate(classes[0]):\n",
    "                ymin = boxes[0][index][0]\n",
    "                xmin = boxes[0][index][1]\n",
    "                ymax = boxes[0][index][2]\n",
    "                xmax = boxes[0][index][3]\n",
    "                class_name = (category_index.get(value)).get('name')\n",
    "                widthvalue = int((xmax - xmin) / 2)  # width 길이\n",
    "                heightvalue = int((ymax - ymin) / 2)  # height 길이\n",
    "                if ((class_name == \"person\" or class_name == \"car\") and scores[0, index] > 0.80):\n",
    "                    get_distance_from_line((xmin + xmax) / 2, (ymin + ymax) / 2, a, b, c)\n",
    "                    signal = get_warning_signal(\n",
    "                        get_distance_from_line((xmin + xmax) / 2, (ymin + ymax) / 2, a, b, c), class_name)\n",
    "                    if signal >= 0:\n",
    "                        if (signal >= time_signal):\n",
    "                            time_signal = signal\n",
    "                            time_value = time.time()\n",
    "\n",
    "            if (time.time() - time_value < 1):\n",
    "                signal = time_signal\n",
    "            else:\n",
    "                time_signal = -1\n",
    "                time_value = 0\n",
    "\n",
    "            Camera_data = {\n",
    "                'Camera_ID': camera_id,\n",
    "                'Value': signal\n",
    "            }\n",
    "\n",
    "            message = json.dumps(Camera_data) + \"\\n\"\n",
    "            signal = -1\n",
    "            cv2.imshow('video version', cv2.line(image_np,(baseline_x[0], baseline_y[0]),(baseline_x[1], baseline_y[1]),(0,0,255),5))\n",
    "\n",
    "            print(message)\n",
    "            if cv2.waitKey(25) & 0xFF == ord('q'):  # waitKey( 내부의 값이 작아지면 CPU 의 부담은 커지는데 비해 처리속도는 빨라짐 )\n",
    "                break\n",
    "\n",
    "            # 저장된 비디오의 경우 한정\n",
    "            if (cap.get(cv2.CAP_PROP_POS_FRAMES) == cap.get(cv2.CAP_PROP_FRAME_COUNT)):\n",
    "                break\n",
    "\n",
    "        cv2.destroyAllWindows()\n",
    "        cap.release()"
   ]
  },
  {
   "cell_type": "markdown",
   "metadata": {},
   "source": [
    "# Read Line Point from File (Stream Version)"
   ]
  },
  {
   "cell_type": "code",
   "execution_count": null,
   "metadata": {},
   "outputs": [],
   "source": [
    "f = open(\"output_stream_ipython.txt\", 'r')\n",
    "f_data = f.read()\n",
    "f.close()\n",
    "f_data = f_data.split()\n",
    "\n",
    "a = float(f_data[0])\n",
    "b = float(f_data[1])\n",
    "c = float(f_data[2])\n",
    "baseline_x[0] = int(f_data[3])\n",
    "baseline_x[1] = int(f_data[4])\n",
    "baseline_y[0] = int(f_data[5])\n",
    "baseline_y[1] = int(f_data[6])"
   ]
  },
  {
   "cell_type": "markdown",
   "metadata": {},
   "source": [
    "# Object Tracking (Stream Version)"
   ]
  },
  {
   "cell_type": "code",
   "execution_count": 13,
   "metadata": {},
   "outputs": [
    {
     "name": "stdout",
     "output_type": "stream",
     "text": [
      "{\"Camera_ID\": 1, \"Value\": -1}\n",
      "\n",
      "{\"Camera_ID\": 1, \"Value\": -1}\n",
      "\n",
      "{\"Camera_ID\": 1, \"Value\": -1}\n",
      "\n",
      "{\"Camera_ID\": 1, \"Value\": -1}\n",
      "\n",
      "{\"Camera_ID\": 1, \"Value\": -1}\n",
      "\n",
      "{\"Camera_ID\": 1, \"Value\": -1}\n",
      "\n",
      "{\"Camera_ID\": 1, \"Value\": -1}\n",
      "\n",
      "{\"Camera_ID\": 1, \"Value\": -1}\n",
      "\n",
      "{\"Camera_ID\": 1, \"Value\": -1}\n",
      "\n",
      "{\"Camera_ID\": 1, \"Value\": -1}\n",
      "\n",
      "{\"Camera_ID\": 1, \"Value\": -1}\n",
      "\n",
      "{\"Camera_ID\": 1, \"Value\": -1}\n",
      "\n",
      "{\"Camera_ID\": 1, \"Value\": -1}\n",
      "\n",
      "{\"Camera_ID\": 1, \"Value\": -1}\n",
      "\n",
      "{\"Camera_ID\": 1, \"Value\": -1}\n",
      "\n",
      "{\"Camera_ID\": 1, \"Value\": -1}\n",
      "\n"
     ]
    }
   ],
   "source": [
    "cap = cv2.VideoCapture(0)\n",
    "signal = -1\n",
    "time_signal = -1\n",
    "time_value = time.time()\n",
    "\n",
    "with detection_graph.as_default():\n",
    "    with tf.compat.v1.Session(graph=detection_graph) as sess:\n",
    "        ret = True\n",
    "        while (ret):\n",
    "            ret, image_np = cap.read()\n",
    "            # Definite input and output Tensors for detection_graph\n",
    "            image_tensor = detection_graph.get_tensor_by_name('image_tensor:0')\n",
    "            # Each box represents a part of the image where a particular object was detected.\n",
    "            detection_boxes = detection_graph.get_tensor_by_name('detection_boxes:0')\n",
    "            # Each score represent how level of confidence for each of the objects.\n",
    "            # Score is shown on the result image, together with the class label.\n",
    "            detection_scores = detection_graph.get_tensor_by_name('detection_scores:0')\n",
    "            detection_classes = detection_graph.get_tensor_by_name('detection_classes:0')\n",
    "            num_detections = detection_graph.get_tensor_by_name('num_detections:0')\n",
    "\n",
    "            # Expand dimensions since the model expects images to have shape: [1, None, None, 3]\n",
    "            image_np_expanded = np.expand_dims(image_np, axis=0)\n",
    "            # Actual detection.\n",
    "            (boxes, scores, classes, num) = sess.run(\n",
    "                [detection_boxes, detection_scores, detection_classes, num_detections],\n",
    "                feed_dict={image_tensor: image_np_expanded})\n",
    "            # Visualization of the results of a detection.\n",
    "            vis_util.visualize_boxes_and_labels_on_image_array(\n",
    "                image_np,\n",
    "                np.squeeze(boxes),\n",
    "                np.squeeze(classes).astype(np.int32),\n",
    "                np.squeeze(scores),\n",
    "                category_index,\n",
    "                use_normalized_coordinates=True,\n",
    "                line_thickness=8)\n",
    "\n",
    "            for index, value in enumerate(classes[0]):\n",
    "                ymin = boxes[0][index][0]\n",
    "                xmin = boxes[0][index][1]\n",
    "                ymax = boxes[0][index][2]\n",
    "                xmax = boxes[0][index][3]\n",
    "                class_name = (category_index.get(value)).get('name')\n",
    "                widthvalue = int((xmax - xmin) / 2)  # width 길이\n",
    "                heightvalue = int((ymax - ymin) / 2)  # height 길이\n",
    "                if ((class_name == \"person\" or class_name == \"car\") and scores[0, index] > 0.80):\n",
    "                    get_distance_from_line((xmin + xmax) / 2, (ymin + ymax) / 2, a, b, c)\n",
    "                    signal = get_warning_signal(\n",
    "                        get_distance_from_line((xmin + xmax) / 2, (ymin + ymax) / 2, a, b, c), class_name)\n",
    "                    if signal >= 0:\n",
    "                        if (signal >= time_signal):\n",
    "                            time_signal = signal\n",
    "                            time_value = time.time()\n",
    "\n",
    "            if (time.time() - time_value < 1):\n",
    "                signal = time_signal\n",
    "            else:\n",
    "                time_signal = -1\n",
    "                time_value = 0\n",
    "\n",
    "            Camera_data = {\n",
    "                'Camera_ID': camera_id,\n",
    "                'Value': signal\n",
    "            }\n",
    "\n",
    "            message = json.dumps(Camera_data) + \"\\n\"\n",
    "            signal = -1\n",
    "            cv2.imshow('stream version', cv2.line(image_np,(baseline_x[0], baseline_y[0]),(baseline_x[1], baseline_y[1]),(0,0,255),5))\n",
    "\n",
    "            print(message)\n",
    "            if cv2.waitKey(25) & 0xFF == ord('q'):  # waitKey( 내부의 값이 작아지면 CPU 의 부담은 커지는데 비해 처리속도는 빨라짐 )\n",
    "                break\n",
    "\n",
    "        cv2.destroyAllWindows()\n",
    "        cap.release()"
   ]
  },
  {
   "cell_type": "markdown",
   "metadata": {},
   "source": [
    "# ---------------------- [Warning] ----------------------\n",
    "# From this cell, communicate with server"
   ]
  },
  {
   "cell_type": "markdown",
   "metadata": {},
   "source": [
    "# Asyncio Setting"
   ]
  },
  {
   "cell_type": "code",
   "execution_count": 34,
   "metadata": {},
   "outputs": [],
   "source": [
    "reader, writer = await asyncio.open_connection( '192.168.219.107', 6974)"
   ]
  },
  {
   "cell_type": "markdown",
   "metadata": {},
   "source": [
    "# Read Line Point from File (Video Version)"
   ]
  },
  {
   "cell_type": "code",
   "execution_count": null,
   "metadata": {},
   "outputs": [],
   "source": [
    "f = open(\"output_video_ipython.txt\", 'r')\n",
    "f_data = f.read()\n",
    "f.close()\n",
    "f_data = f_data.split()\n",
    "\n",
    "a = float(f_data[0])\n",
    "b = float(f_data[1])\n",
    "c = float(f_data[2])\n",
    "baseline_x[0] = int(f_data[3])\n",
    "baseline_x[1] = int(f_data[4])\n",
    "baseline_y[0] = int(f_data[5])\n",
    "baseline_y[1] = int(f_data[6])"
   ]
  },
  {
   "cell_type": "markdown",
   "metadata": {},
   "source": [
    "# Object Tracking (Video Version)"
   ]
  },
  {
   "cell_type": "code",
   "execution_count": null,
   "metadata": {},
   "outputs": [],
   "source": [
    "cap = cv2.VideoCapture(inputVideo)\n",
    "signal = -1\n",
    "time_signal = -1\n",
    "time_value = time.time()\n",
    "\n",
    "with detection_graph.as_default():\n",
    "    with tf.compat.v1.Session(graph=detection_graph) as sess:\n",
    "        ret = True\n",
    "        while (ret):\n",
    "            ret, image_np = cap.read()\n",
    "            # Definite input and output Tensors for detection_graph\n",
    "            image_tensor = detection_graph.get_tensor_by_name('image_tensor:0')\n",
    "            # Each box represents a part of the image where a particular object was detected.\n",
    "            detection_boxes = detection_graph.get_tensor_by_name('detection_boxes:0')\n",
    "            # Each score represent how level of confidence for each of the objects.\n",
    "            # Score is shown on the result image, together with the class label.\n",
    "            detection_scores = detection_graph.get_tensor_by_name('detection_scores:0')\n",
    "            detection_classes = detection_graph.get_tensor_by_name('detection_classes:0')\n",
    "            num_detections = detection_graph.get_tensor_by_name('num_detections:0')\n",
    "\n",
    "            # Expand dimensions since the model expects images to have shape: [1, None, None, 3]\n",
    "            image_np_expanded = np.expand_dims(image_np, axis=0)\n",
    "            # Actual detection.\n",
    "            (boxes, scores, classes, num) = sess.run(\n",
    "                [detection_boxes, detection_scores, detection_classes, num_detections],\n",
    "                feed_dict={image_tensor: image_np_expanded})\n",
    "            \n",
    "            # Visualization of the results of a detection.\n",
    "            vis_util.visualize_boxes_and_labels_on_image_array(\n",
    "                image_np,\n",
    "                np.squeeze(boxes),\n",
    "                np.squeeze(classes).astype(np.int32),\n",
    "                np.squeeze(scores),\n",
    "                category_index,\n",
    "                use_normalized_coordinates=True,\n",
    "                line_thickness=8)\n",
    "\n",
    "            for index, value in enumerate(classes[0]):\n",
    "                ymin = boxes[0][index][0]\n",
    "                xmin = boxes[0][index][1]\n",
    "                ymax = boxes[0][index][2]\n",
    "                xmax = boxes[0][index][3]\n",
    "                class_name = (category_index.get(value)).get('name')\n",
    "                widthvalue = int((xmax - xmin) / 2)  # width 길이\n",
    "                heightvalue = int((ymax - ymin) / 2)  # height 길이\n",
    "                if ((class_name == \"person\" or class_name == \"car\") and scores[0, index] > 0.80):\n",
    "                    get_distance_from_line((xmin + xmax) / 2, (ymin + ymax) / 2, a, b, c)\n",
    "                    signal = get_warning_signal(\n",
    "                        get_distance_from_line((xmin + xmax) / 2, (ymin + ymax) / 2, a, b, c), class_name)\n",
    "                    if signal >= 0:\n",
    "                        if (signal >= time_signal):\n",
    "                            time_signal = signal\n",
    "                            time_value = time.time()\n",
    "\n",
    "            if (time.time() - time_value < 1):\n",
    "                signal = time_signal\n",
    "            else:\n",
    "                time_signal = -1\n",
    "                time_value = 0\n",
    "\n",
    "            Camera_data = {\n",
    "                'Camera_ID': camera_id,\n",
    "                'Value': signal\n",
    "            }\n",
    "\n",
    "            message = json.dumps(Camera_data) + \"\\n\"\n",
    "            writer.write(message.encode())\n",
    "            await writer.drain()\n",
    "            signal = -1\n",
    "            cv2.imshow('video version', cv2.line(image_np,(baseline_x[0], baseline_y[0]),(baseline_x[1], baseline_y[1]),(0,0,255),5))\n",
    "\n",
    "            if cv2.waitKey(25) & 0xFF == ord('q'):  # waitKey( 내부의 값이 작아지면 CPU 의 부담은 커지는데 비해 처리속도는 빨라짐 )\n",
    "                break\n",
    "\n",
    "            # 저장된 비디오의 경우 한정\n",
    "            if (cap.get(cv2.CAP_PROP_POS_FRAMES) == cap.get(cv2.CAP_PROP_FRAME_COUNT)):\n",
    "                break\n",
    "\n",
    "        writer.close()\n",
    "        await writer.wait_closed()\n",
    "        cv2.destroyAllWindows()\n",
    "        cap.release()"
   ]
  },
  {
   "cell_type": "markdown",
   "metadata": {},
   "source": [
    "# Read Line Point from File (Stream Version)"
   ]
  },
  {
   "cell_type": "code",
   "execution_count": null,
   "metadata": {},
   "outputs": [],
   "source": [
    "f = open(\"output_stream_ipython.txt\", 'r')\n",
    "f_data = f.read()\n",
    "f.close()\n",
    "f_data = f_data.split()\n",
    "\n",
    "a = float(f_data[0])\n",
    "b = float(f_data[1])\n",
    "c = float(f_data[2])\n",
    "baseline_x[0] = int(f_data[3])\n",
    "baseline_x[1] = int(f_data[4])\n",
    "baseline_y[0] = int(f_data[5])\n",
    "baseline_y[1] = int(f_data[6])"
   ]
  },
  {
   "cell_type": "markdown",
   "metadata": {},
   "source": [
    "# Object Tracking (Stream Version)"
   ]
  },
  {
   "cell_type": "code",
   "execution_count": null,
   "metadata": {},
   "outputs": [],
   "source": [
    "cap = cv2.VideoCapture(0)\n",
    "signal = -1\n",
    "time_signal = -1\n",
    "time_value = time.time()\n",
    "\n",
    "with detection_graph.as_default():\n",
    "    with tf.compat.v1.Session(graph=detection_graph) as sess:\n",
    "        ret = True\n",
    "        while (ret):\n",
    "            ret, image_np = cap.read()\n",
    "            # Definite input and output Tensors for detection_graph\n",
    "            image_tensor = detection_graph.get_tensor_by_name('image_tensor:0')\n",
    "            # Each box represents a part of the image where a particular object was detected.\n",
    "            detection_boxes = detection_graph.get_tensor_by_name('detection_boxes:0')\n",
    "            # Each score represent how level of confidence for each of the objects.\n",
    "            # Score is shown on the result image, together with the class label.\n",
    "            detection_scores = detection_graph.get_tensor_by_name('detection_scores:0')\n",
    "            detection_classes = detection_graph.get_tensor_by_name('detection_classes:0')\n",
    "            num_detections = detection_graph.get_tensor_by_name('num_detections:0')\n",
    "\n",
    "            # Expand dimensions since the model expects images to have shape: [1, None, None, 3]\n",
    "            image_np_expanded = np.expand_dims(image_np, axis=0)\n",
    "            # Actual detection.\n",
    "            (boxes, scores, classes, num) = sess.run(\n",
    "                [detection_boxes, detection_scores, detection_classes, num_detections],\n",
    "                feed_dict={image_tensor: image_np_expanded})\n",
    "            # Visualization of the results of a detection.\n",
    "            vis_util.visualize_boxes_and_labels_on_image_array(\n",
    "                image_np,\n",
    "                np.squeeze(boxes),\n",
    "                np.squeeze(classes).astype(np.int32),\n",
    "                np.squeeze(scores),\n",
    "                category_index,\n",
    "                use_normalized_coordinates=True,\n",
    "                line_thickness=8)\n",
    "\n",
    "            for index, value in enumerate(classes[0]):\n",
    "                ymin = boxes[0][index][0]\n",
    "                xmin = boxes[0][index][1]\n",
    "                ymax = boxes[0][index][2]\n",
    "                xmax = boxes[0][index][3]\n",
    "                class_name = (category_index.get(value)).get('name')\n",
    "                widthvalue = int((xmax - xmin) / 2)  # width 길이\n",
    "                heightvalue = int((ymax - ymin) / 2)  # height 길이\n",
    "                if ((class_name == \"person\" or class_name == \"car\") and scores[0, index] > 0.80):\n",
    "                    get_distance_from_line((xmin + xmax) / 2, (ymin + ymax) / 2, a, b, c)\n",
    "                    signal = get_warning_signal(\n",
    "                        get_distance_from_line((xmin + xmax) / 2, (ymin + ymax) / 2, a, b, c), class_name)\n",
    "                    if signal >= 0:\n",
    "                        if (signal >= time_signal):\n",
    "                            time_signal = signal\n",
    "                            time_value = time.time()\n",
    "\n",
    "            if (time.time() - time_value < 1):\n",
    "                signal = time_signal\n",
    "            else:\n",
    "                time_signal = -1\n",
    "                time_value = 0\n",
    "\n",
    "            Camera_data = {\n",
    "                'Camera_ID': camera_id,\n",
    "                'Value': signal\n",
    "            }\n",
    "\n",
    "            message = json.dumps(Camera_data) + \"\\n\"\n",
    "            writer.write(message.encode())\n",
    "            await writer.drain()\n",
    "            signal = -1\n",
    "            cv2.imshow('stream version', cv2.line(image_np,(baseline_x[0], baseline_y[0]),(baseline_x[1], baseline_y[1]),(0,0,255),5))\n",
    "            \n",
    "            if cv2.waitKey(25) & 0xFF == ord('q'):  # waitKey( 내부의 값이 작아지면 CPU 의 부담은 커지는데 비해 처리속도는 빨라짐 )\n",
    "                break\n",
    "\n",
    "        writer.close()\n",
    "        await writer.wait_closed()\n",
    "        cv2.destroyAllWindows()\n",
    "        cap.release()"
   ]
  }
 ],
 "metadata": {
  "kernelspec": {
   "display_name": "Python 3",
   "language": "python",
   "name": "python3"
  },
  "language_info": {
   "codemirror_mode": {
    "name": "ipython",
    "version": 3
   },
   "file_extension": ".py",
   "mimetype": "text/x-python",
   "name": "python",
   "nbconvert_exporter": "python",
   "pygments_lexer": "ipython3",
   "version": "3.7.3"
  }
 },
 "nbformat": 4,
 "nbformat_minor": 2
}
