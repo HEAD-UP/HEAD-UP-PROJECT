{
 "cells": [
  {
   "cell_type": "markdown",
   "metadata": {},
   "source": [
    "# Env."
   ]
  },
  {
   "cell_type": "code",
   "execution_count": 20,
   "metadata": {},
   "outputs": [],
   "source": [
    "import numpy as np\n",
    "import os\n",
    "import six.moves.urllib as urllib\n",
    "import sys\n",
    "import tarfile\n",
    "import tensorflow as tf\n",
    "import zipfile\n",
    "import cv2\n",
    "import time\n",
    "import asyncio\n",
    "\n",
    "from collections import defaultdict\n",
    "from io import StringIO\n",
    "from matplotlib import pyplot as plt\n",
    "from PIL import Image\n",
    "\n",
    "if tf.__version__ < '1.4.0':\n",
    "  raise ImportError('Please upgrade your tensorflow installation to v1.4.* or later!')"
   ]
  },
  {
   "cell_type": "code",
   "execution_count": 21,
   "metadata": {},
   "outputs": [],
   "source": [
    "# This is needed to display the images.\n",
    "%matplotlib inline\n",
    "\n",
    "# This is needed since the notebook is stored in the object_detection folder.\n",
    "sys.path.append(\"..\")"
   ]
  },
  {
   "cell_type": "markdown",
   "metadata": {},
   "source": [
    "# Func."
   ]
  },
  {
   "cell_type": "code",
   "execution_count": 22,
   "metadata": {},
   "outputs": [],
   "source": [
    "def set_baseline(x1, y1, x2, y2):\n",
    "    return y2 - y1, x1 - x2, x2 * y1 - x1 * y2"
   ]
  },
  {
   "cell_type": "code",
   "execution_count": 23,
   "metadata": {},
   "outputs": [],
   "source": [
    "baseline_x = []\n",
    "baseline_y = []\n",
    "mouse_count = 2\n",
    "\n",
    "def get_mouse_click_location(event, x, y, flags, param):\n",
    "    global mouse_count, a, b, c\n",
    "    if (mouse_count > 0 and event == cv2.EVENT_LBUTTONDOWN):\n",
    "        baseline_x.append(x)\n",
    "        baseline_y.append(y)\n",
    "        mouse_count = mouse_count - 1\n",
    "        if (mouse_count == 0):\n",
    "            a, b, c = set_baseline(baseline_x[0] * 0.001, baseline_y[0] * 0.001, baseline_x[1] * 0.001, baseline_y[1] * 0.001)"
   ]
  },
  {
   "cell_type": "markdown",
   "metadata": {},
   "source": [
    "# Main"
   ]
  },
  {
   "cell_type": "code",
   "execution_count": 24,
   "metadata": {},
   "outputs": [],
   "source": [
    "inputVideo = '.\\\\video_samples\\\\s1_b.mp4'\n",
    "cap=cv2.VideoCapture(inputVideo)\n",
    "\n",
    "\n",
    "\n",
    "ret=True\n",
    "    \n",
    "while (ret):\n",
    "    ret, image_np=cap.read()\n",
    "    cv2.imshow('stored version', image_np)\n",
    "    \n",
    "    # Mouse Click 좌표를 위한 함수\n",
    "    cv2.setMouseCallback('stored version', get_mouse_click_location)    \n",
    "    \n",
    "    if mouse_count == 0:\n",
    "        break\n",
    "    \n",
    "    if cv2.waitKey(25) & 0xFF==ord('q'): #waitKey( 내부의 값이 작아지면 CPU 의 부담은 커지는데 비해 처리속도는 빨라짐 )\n",
    "        break\n",
    "\n",
    "        # 저장된 비디오의 경우 한정\n",
    "    if(cap.get(cv2.CAP_PROP_POS_FRAMES) == cap.get(cv2.CAP_PROP_FRAME_COUNT)):\n",
    "        break\n",
    "\n",
    "cv2.destroyAllWindows()\n",
    "cap.release()        "
   ]
  },
  {
   "cell_type": "code",
   "execution_count": 29,
   "metadata": {},
   "outputs": [],
   "source": [
    "f = open(\"output.txt\",'w')\n",
    "\n",
    "data = str(a) + \" \" + str(b) + \" \" + str(c)\n",
    "f.write(data)\n",
    "f.close()"
   ]
  },
  {
   "cell_type": "code",
   "execution_count": null,
   "metadata": {},
   "outputs": [],
   "source": []
  },
  {
   "cell_type": "code",
   "execution_count": null,
   "metadata": {},
   "outputs": [],
   "source": []
  }
 ],
 "metadata": {
  "kernelspec": {
   "display_name": "Python 3",
   "language": "python",
   "name": "python3"
  },
  "language_info": {
   "codemirror_mode": {
    "name": "ipython",
    "version": 3
   },
   "file_extension": ".py",
   "mimetype": "text/x-python",
   "name": "python",
   "nbconvert_exporter": "python",
   "pygments_lexer": "ipython3",
   "version": "3.7.6"
  }
 },
 "nbformat": 4,
 "nbformat_minor": 4
}
