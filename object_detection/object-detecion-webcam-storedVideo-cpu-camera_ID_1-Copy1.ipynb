{
 "cells": [
  {
   "cell_type": "markdown",
   "metadata": {},
   "source": [
    "# Imports"
   ]
  },
  {
   "cell_type": "code",
<<<<<<< HEAD
   "execution_count": 6,
=======
   "execution_count": 5,
>>>>>>> cd0fc276d75877804404e2c53ac6e47cef3cadc7
   "metadata": {
    "scrolled": true
   },
   "outputs": [],
   "source": [
    "import numpy as np\n",
    "import os\n",
    "import six.moves.urllib as urllib\n",
    "import sys\n",
    "import tarfile\n",
    "import tensorflow as tf\n",
    "import zipfile\n",
    "import cv2\n",
    "import json\n",
    "import time\n",
    "import asyncio\n",
    "\n",
    "from collections import defaultdict\n",
    "from io import StringIO\n",
    "from matplotlib import pyplot as plt\n",
    "from PIL import Image\n",
    "\n",
    "if tf.__version__ < '1.4.0':\n",
    "  raise ImportError('Please upgrade your tensorflow installation to v1.4.* or later!')\n"
   ]
  },
  {
   "cell_type": "markdown",
   "metadata": {},
   "source": [
    "## Env setup"
   ]
  },
  {
   "cell_type": "code",
<<<<<<< HEAD
   "execution_count": 7,
=======
   "execution_count": 6,
>>>>>>> cd0fc276d75877804404e2c53ac6e47cef3cadc7
   "metadata": {},
   "outputs": [],
   "source": [
    "# This is needed to display the images.\n",
    "%matplotlib inline\n",
    "\n",
    "# This is needed since the notebook is stored in the object_detection folder.\n",
    "sys.path.append(\"..\")"
   ]
  },
  {
   "cell_type": "markdown",
   "metadata": {},
   "source": [
    "## Object detection imports\n",
    "Here are the imports from the object detection module."
   ]
  },
  {
   "cell_type": "code",
<<<<<<< HEAD
   "execution_count": 8,
=======
   "execution_count": 7,
>>>>>>> cd0fc276d75877804404e2c53ac6e47cef3cadc7
   "metadata": {},
   "outputs": [],
   "source": [
    "from utils import label_map_util\n",
    "\n",
    "from utils import visualization_utils as vis_util"
   ]
  },
  {
   "cell_type": "markdown",
   "metadata": {},
   "source": [
    "# Model preparation "
   ]
  },
  {
   "cell_type": "markdown",
   "metadata": {},
   "source": [
    "## Variables\n",
    "\n",
    "Any model exported using the `export_inference_graph.py` tool can be loaded here simply by changing `PATH_TO_CKPT` to point to a new .pb file.  \n",
    "\n",
    "By default we use an \"SSD with Mobilenet\" model here. See the [detection model zoo](https://github.com/tensorflow/models/blob/master/research/object_detection/g3doc/detection_model_zoo.md) for a list of other models that can be run out-of-the-box with varying speeds and accuracies."
   ]
  },
  {
   "cell_type": "code",
<<<<<<< HEAD
   "execution_count": 9,
=======
   "execution_count": 8,
>>>>>>> cd0fc276d75877804404e2c53ac6e47cef3cadc7
   "metadata": {},
   "outputs": [],
   "source": [
    "# What model to download.\n",
    "MODEL_NAME = 'ssd_mobilenet_v1_coco_2017_11_17'\n",
    "MODEL_FILE = MODEL_NAME + '.tar.gz'\n",
    "DOWNLOAD_BASE = 'http://download.tensorflow.org/models/object_detection/'\n",
    "\n",
    "# Path to frozen detection graph. This is the actual model that is used for the object detection.\n",
    "PATH_TO_CKPT = MODEL_NAME + '/frozen_inference_graph.pb'\n",
    "\n",
    "# List of the strings that is used to add correct label for each box.\n",
    "PATH_TO_LABELS = os.path.join('data', 'mscoco_label_map.pbtxt')\n",
    "\n",
    "NUM_CLASSES = 90"
   ]
  },
  {
   "cell_type": "markdown",
   "metadata": {},
   "source": [
    "## Download Model"
   ]
  },
  {
   "cell_type": "markdown",
   "metadata": {},
   "source": [
    "opener = urllib.request.URLopener()\n",
    "opener.retrieve(DOWNLOAD_BASE + MODEL_FILE, MODEL_FILE)\n",
    "tar_file = tarfile.open(MODEL_FILE)\n",
    "for file in tar_file.getmembers():\n",
    "  file_name = os.path.basename(file.name)\n",
    "  if 'frozen_inference_graph.pb' in file_name:\n",
    "    tar_file.extract(file, os.getcwd())"
   ]
  },
  {
   "cell_type": "markdown",
   "metadata": {},
   "source": [
    "## Load a (frozen) Tensorflow model into memory."
   ]
  },
  {
   "cell_type": "code",
<<<<<<< HEAD
   "execution_count": 10,
=======
   "execution_count": 9,
>>>>>>> cd0fc276d75877804404e2c53ac6e47cef3cadc7
   "metadata": {},
   "outputs": [],
   "source": [
    "detection_graph = tf.Graph()\n",
    "with detection_graph.as_default():\n",
    "    od_graph_def = tf.compat.v1.GraphDef()\n",
    "    with tf.io.gfile.GFile(PATH_TO_CKPT, 'rb') as fid:\n",
    "        serialized_graph = fid.read()\n",
    "        od_graph_def.ParseFromString(serialized_graph)\n",
    "        tf.import_graph_def(od_graph_def, name='')"
   ]
  },
  {
   "cell_type": "markdown",
   "metadata": {},
   "source": [
    "## Loading label map\n",
    "Label maps map indices to category names, so that when our convolution network predicts `5`, we know that this corresponds to `airplane`.  Here we use internal utility functions, but anything that returns a dictionary mapping integers to appropriate string labels would be fine"
   ]
  },
  {
   "cell_type": "code",
<<<<<<< HEAD
   "execution_count": 11,
=======
   "execution_count": 10,
>>>>>>> cd0fc276d75877804404e2c53ac6e47cef3cadc7
   "metadata": {},
   "outputs": [],
   "source": [
    "label_map = label_map_util.load_labelmap(PATH_TO_LABELS)\n",
    "categories = label_map_util.convert_label_map_to_categories(label_map, max_num_classes=NUM_CLASSES, use_display_name=True)\n",
    "category_index = label_map_util.create_category_index(categories)"
   ]
  },
  {
   "cell_type": "markdown",
   "metadata": {},
   "source": [
    "# Object tracking function"
   ]
  },
  {
   "cell_type": "code",
<<<<<<< HEAD
   "execution_count": 31,
=======
   "execution_count": 11,
>>>>>>> cd0fc276d75877804404e2c53ac6e47cef3cadc7
   "metadata": {},
   "outputs": [],
   "source": [
    "def set_baseline(x1, y1, x2, y2):\n",
    "    return y2 - y1, x1 - x2, x2 * y1 - x1 * y2"
   ]
  },
  {
   "cell_type": "code",
<<<<<<< HEAD
   "execution_count": 32,
=======
   "execution_count": 12,
>>>>>>> cd0fc276d75877804404e2c53ac6e47cef3cadc7
   "metadata": {},
   "outputs": [],
   "source": [
    "def get_distance_from_line(x1, y1, a, b, c):\n",
    "    return (a*x1 + b*y1 + c) / (((a ** 2) + (b ** 2)) ** 0.5)"
   ]
  },
  {
   "cell_type": "markdown",
   "metadata": {},
   "source": [
    "# Baseline setting function"
   ]
  },
  {
   "cell_type": "code",
<<<<<<< HEAD
   "execution_count": 35,
=======
   "execution_count": 13,
>>>>>>> cd0fc276d75877804404e2c53ac6e47cef3cadc7
   "metadata": {},
   "outputs": [],
   "source": [
    "baseline_x = []\n",
    "baseline_y = []\n",
    "mouse_count = 2\n",
    "\n",
    "def get_mouse_click_location(event, x, y, flags, param):\n",
    "    global mouse_count, a, b, c\n",
    "    if (mouse_count > 0 and event == cv2.EVENT_LBUTTONDOWN):\n",
    "        baseline_x.append(x)\n",
    "        baseline_y.append(y)\n",
    "        mouse_count = mouse_count - 1\n",
    "        if (mouse_count == 0):\n",
    "            a, b, c = set_baseline(baseline_x[0] * 0.001, baseline_y[0] * 0.001, baseline_x[1] * 0.001, baseline_y[1] * 0.001)\n",
    "            print(a, b, c)"
   ]
  },
  {
   "cell_type": "markdown",
   "metadata": {},
   "source": [
    "# Waring signal function"
   ]
  },
  {
   "cell_type": "code",
   "execution_count": 14,
   "metadata": {},
   "outputs": [],
   "source": [
    "standard_distance = 0.03\n",
    "\n",
    "def send_warning_signal(input_distance, input_class):\n",
    "    if standard_distance > input_distance:\n",
    "        if input_class == 'person':\n",
    "            return 0\n",
    "        else:\n",
    "            return 1\n",
    "    return -1"
   ]
  },
  {
   "cell_type": "markdown",
   "metadata": {},
   "source": [
    "# STORED VIDEO ONLY"
   ]
  },
  {
   "cell_type": "code",
   "execution_count": 37,
   "metadata": {
    "scrolled": true
   },
   "outputs": [
    {
     "name": "stdout",
     "output_type": "stream",
     "text": [
      "{\"Camera_ID\": 1, \"Value\": -1}\n",
      "\n",
      "{\"Camera_ID\": 1, \"Value\": -1}\n",
      "\n",
      "{\"Camera_ID\": 1, \"Value\": -1}\n",
      "\n",
      "{\"Camera_ID\": 1, \"Value\": -1}\n",
      "\n",
      "{\"Camera_ID\": 1, \"Value\": -1}\n",
      "\n",
      "{\"Camera_ID\": 1, \"Value\": -1}\n",
      "\n",
      "{\"Camera_ID\": 1, \"Value\": -1}\n",
      "\n",
      "{\"Camera_ID\": 1, \"Value\": -1}\n",
      "\n",
      "{\"Camera_ID\": 1, \"Value\": -1}\n",
      "\n",
      "{\"Camera_ID\": 1, \"Value\": -1}\n",
      "\n",
      "{\"Camera_ID\": 1, \"Value\": -1}\n",
      "\n",
      "{\"Camera_ID\": 1, \"Value\": -1}\n",
      "\n",
      "{\"Camera_ID\": 1, \"Value\": -1}\n",
      "\n",
      "{\"Camera_ID\": 1, \"Value\": -1}\n",
      "\n",
      "{\"Camera_ID\": 1, \"Value\": -1}\n",
      "\n",
      "{\"Camera_ID\": 1, \"Value\": -1}\n",
      "\n",
      "{\"Camera_ID\": 1, \"Value\": -1}\n",
      "\n",
      "{\"Camera_ID\": 1, \"Value\": -1}\n",
      "\n",
      "{\"Camera_ID\": 1, \"Value\": -1}\n",
      "\n",
      "{\"Camera_ID\": 1, \"Value\": -1}\n",
      "\n",
      "{\"Camera_ID\": 1, \"Value\": -1}\n",
      "\n",
      "{\"Camera_ID\": 1, \"Value\": -1}\n",
      "\n",
      "{\"Camera_ID\": 1, \"Value\": -1}\n",
      "\n",
      "{\"Camera_ID\": 1, \"Value\": -1}\n",
      "\n",
      "{\"Camera_ID\": 1, \"Value\": -1}\n",
      "\n",
      "{\"Camera_ID\": 1, \"Value\": -1}\n",
      "\n",
      "{\"Camera_ID\": 1, \"Value\": -1}\n",
      "\n",
      "-0.22799999999999998 -0.367 0.179203\n",
      "{\"Camera_ID\": 1, \"Value\": -1}\n",
      "\n",
      "{\"Camera_ID\": 1, \"Value\": -1}\n",
      "\n",
      "{\"Camera_ID\": 1, \"Value\": -1}\n",
      "\n",
      "{\"Camera_ID\": 1, \"Value\": -1}\n",
      "\n",
      "{\"Camera_ID\": 1, \"Value\": -1}\n",
      "\n",
      "{\"Camera_ID\": 1, \"Value\": -1}\n",
      "\n",
      "{\"Camera_ID\": 1, \"Value\": -1}\n",
      "\n",
      "{\"Camera_ID\": 1, \"Value\": -1}\n",
      "\n",
      "{\"Camera_ID\": 1, \"Value\": -1}\n",
      "\n",
      "{\"Camera_ID\": 1, \"Value\": -1}\n",
      "\n",
      "{\"Camera_ID\": 1, \"Value\": -1}\n",
      "\n",
      "{\"Camera_ID\": 1, \"Value\": -1}\n",
      "\n",
      "{\"Camera_ID\": 1, \"Value\": -1}\n",
      "\n",
      "{\"Camera_ID\": 1, \"Value\": -1}\n",
      "\n",
      "{\"Camera_ID\": 1, \"Value\": -1}\n",
      "\n",
      "{\"Camera_ID\": 1, \"Value\": -1}\n",
      "\n",
      "{\"Camera_ID\": 1, \"Value\": -1}\n",
      "\n",
      "{\"Camera_ID\": 1, \"Value\": -1}\n",
      "\n",
      "{\"Camera_ID\": 1, \"Value\": -1}\n",
      "\n",
      "{\"Camera_ID\": 1, \"Value\": -1}\n",
      "\n",
      "{\"Camera_ID\": 1, \"Value\": -1}\n",
      "\n",
      "{\"Camera_ID\": 1, \"Value\": -1}\n",
      "\n",
      "{\"Camera_ID\": 1, \"Value\": -1}\n",
      "\n",
      "{\"Camera_ID\": 1, \"Value\": -1}\n",
      "\n",
      "{\"Camera_ID\": 1, \"Value\": -1}\n",
      "\n",
      "{\"Camera_ID\": 1, \"Value\": -1}\n",
      "\n",
      "{\"Camera_ID\": 1, \"Value\": -1}\n",
      "\n",
      "{\"Camera_ID\": 1, \"Value\": -1}\n",
      "\n",
      "{\"Camera_ID\": 1, \"Value\": -1}\n",
      "\n",
      "{\"Camera_ID\": 1, \"Value\": -1}\n",
      "\n",
      "{\"Camera_ID\": 1, \"Value\": -1}\n",
      "\n",
      "{\"Camera_ID\": 1, \"Value\": -1}\n",
      "\n",
      "{\"Camera_ID\": 1, \"Value\": -1}\n",
      "\n",
      "{\"Camera_ID\": 1, \"Value\": -1}\n",
      "\n",
      "{\"Camera_ID\": 1, \"Value\": -1}\n",
      "\n",
      "{\"Camera_ID\": 1, \"Value\": -1}\n",
      "\n",
      "{\"Camera_ID\": 1, \"Value\": -1}\n",
      "\n",
      "{\"Camera_ID\": 1, \"Value\": -1}\n",
      "\n",
      "{\"Camera_ID\": 1, \"Value\": -1}\n",
      "\n",
      "{\"Camera_ID\": 1, \"Value\": -1}\n",
      "\n",
      "{\"Camera_ID\": 1, \"Value\": -1}\n",
      "\n",
      "{\"Camera_ID\": 1, \"Value\": -1}\n",
      "\n",
      "{\"Camera_ID\": 1, \"Value\": -1}\n",
      "\n",
      "{\"Camera_ID\": 1, \"Value\": -1}\n",
      "\n",
      "{\"Camera_ID\": 1, \"Value\": -1}\n",
      "\n",
      "{\"Camera_ID\": 1, \"Value\": -1}\n",
      "\n",
      "{\"Camera_ID\": 1, \"Value\": -1}\n",
      "\n",
      "{\"Camera_ID\": 1, \"Value\": -1}\n",
      "\n",
      "{\"Camera_ID\": 1, \"Value\": -1}\n",
      "\n",
      "{\"Camera_ID\": 1, \"Value\": -1}\n",
      "\n",
      "{\"Camera_ID\": 1, \"Value\": -1}\n",
      "\n",
      "{\"Camera_ID\": 1, \"Value\": -1}\n",
      "\n"
     ]
    }
   ],
   "source": [
    "inputVideo = '.\\\\video_samples\\\\s1_b.mp4'\n",
    "cap=cv2.VideoCapture(inputVideo)\n",
    "signal = -1\n",
    "\n",
    "time_signal = -1\n",
    "time_value = time.time()\n",
    "\n",
    "with detection_graph.as_default():\n",
    "  with tf.compat.v1.Session(graph=detection_graph) as sess:\n",
    "    ret=True\n",
    "    \n",
    "    while (ret):\n",
    "        ret, image_np=cap.read() \n",
    "        # Definite input and output Tensors for detection_graph\n",
    "        image_tensor = detection_graph.get_tensor_by_name('image_tensor:0')\n",
    "        # Each box represents a part of the image where a particular object was detected.\n",
    "        detection_boxes = detection_graph.get_tensor_by_name('detection_boxes:0')\n",
    "        # Each score represent how level of confidence for each of the objects.\n",
    "        # Score is shown on the result image, together with the class label.\n",
    "        detection_scores = detection_graph.get_tensor_by_name('detection_scores:0')\n",
    "        detection_classes = detection_graph.get_tensor_by_name('detection_classes:0')\n",
    "        num_detections = detection_graph.get_tensor_by_name('num_detections:0')\n",
    "       \n",
    "          # Expand dimensions since the model expects images to have shape: [1, None, None, 3]\n",
    "        image_np_expanded = np.expand_dims(image_np, axis=0)\n",
    "          # Actual detection.\n",
    "        (boxes, scores, classes, num) = sess.run(\n",
    "              [detection_boxes, detection_scores, detection_classes, num_detections],\n",
    "              feed_dict={image_tensor: image_np_expanded})\n",
    "          # Visualization of the results of a detection.\n",
    "        vis_util.visualize_boxes_and_labels_on_image_array(\n",
    "              image_np,\n",
    "              np.squeeze(boxes),\n",
    "              np.squeeze(classes).astype(np.int32),\n",
    "              np.squeeze(scores),\n",
    "              category_index,\n",
    "              use_normalized_coordinates=True,\n",
    "              line_thickness=8)\n",
    "        \n",
    "        if len(baseline_x) == 2:\n",
    "            cv2.imshow('stored version', cv2.line(image_np,(baseline_x[0], baseline_y[0]),(baseline_x[1], baseline_y[1]),(0,0,255),5))\n",
    "            \n",
    "            for index, value in enumerate(classes[0]):\n",
    "                ymin = boxes[0][index][0]\n",
    "                xmin = boxes[0][index][1]\n",
    "                ymax = boxes[0][index][2]\n",
    "                xmax = boxes[0][index][3]\n",
    "                class_name = (category_index.get(value)).get('name')\n",
    "                widthvalue = int((xmax - xmin) / 2)  # width 길이\n",
    "                heightvalue = int((ymax - ymin) / 2)  # height 길이\n",
    "                if ((class_name == \"person\" or class_name == \"car\") and scores[0, index] > 0.80) :\n",
    "                    get_distance_from_line((xmin + xmax) / 2, (ymin + ymax) / 2, a, b, c)\n",
    "                    signal = send_warning_signal(get_distance_from_line((xmin + xmax) / 2, (ymin + ymax) / 2, a, b, c), class_name)\n",
    "                    if signal >= 0 :\n",
    "                        if (signal >= time_signal):\n",
    "                            time_signal = signal\n",
    "                            time_value = time.time()\n",
    "\n",
    "        if (time.time() - time_value < 1):\n",
    "            signal = time_signal\n",
    "        else :\n",
    "            time_signal = -1\n",
    "            time_value = 0\n",
    "            \n",
    "        Camera_data = {\n",
    "            'Camera_ID' : 1,\n",
    "            'Value' : signal\n",
    "        }\n",
    "        message = json.dumps(Camera_data) + \"\\n\" \n",
    "        print(message)\n",
    "        signal = -1\n",
    "        \n",
    "        cv2.imshow('stored version', image_np)\n",
    "        \n",
    "        # Mouse Click 좌표를 위한 함수\n",
    "        cv2.setMouseCallback('stored version', get_mouse_click_location)\n",
    "        \n",
    "        if cv2.waitKey(25) & 0xFF==ord('q'): #waitKey( 내부의 값이 작아지면 CPU 의 부담은 커지는데 비해 처리속도는 빨라짐 )\n",
    "            break\n",
    "\n",
    "        # 저장된 비디오의 경우 한정\n",
    "        if(cap.get(cv2.CAP_PROP_POS_FRAMES) == cap.get(cv2.CAP_PROP_FRAME_COUNT)):\n",
    "            break\n",
    "            \n",
    "    cv2.destroyAllWindows()\n",
    "    cap.release()"
   ]
  },
  {
   "cell_type": "markdown",
   "metadata": {},
   "source": [
    "# STREAMING ONLY"
   ]
  },
  {
   "cell_type": "code",
<<<<<<< HEAD
   "execution_count": 17,
=======
   "execution_count": 15,
>>>>>>> cd0fc276d75877804404e2c53ac6e47cef3cadc7
   "metadata": {},
   "outputs": [
    {
     "name": "stdout",
     "output_type": "stream",
     "text": [
<<<<<<< HEAD
      "0.4419442117214203 0.6065695285797119\n",
      "person0\n",
      "\n",
      "0.4573734402656555 0.5978647470474243\n",
      "person0\n",
      "\n",
      "0.49327704310417175 0.6026516556739807\n",
      "person0\n",
      "\n",
      "0.5053392052650452 0.5995568633079529\n",
      "person0\n",
      "\n",
      "0.503027617931366 0.5984711647033691\n",
      "person0\n",
      "\n",
      "0.5014292001724243 0.6028671860694885\n",
      "person0\n",
      "\n",
      "0.5030917525291443 0.5998152494430542\n",
      "person0\n",
      "\n",
      "0.4995935559272766 0.600659191608429\n",
      "person0\n",
      "\n",
      "0.5006054043769836 0.6022877097129822\n",
      "person0\n",
      "\n",
      "0.5067948698997498 0.6029652953147888\n",
      "person0\n",
      "\n",
      "0.49528390169143677 0.6050885319709778\n",
      "person0\n",
      "\n",
      "0.5067123770713806 0.6032201051712036\n",
      "person0\n",
      "\n",
      "0.4998563528060913 0.6025124788284302\n",
      "person0\n",
      "\n",
      "0.49847379326820374 0.603345513343811\n",
      "person0\n",
      "\n",
      "0.4946324825286865 0.6045363545417786\n",
      "person0\n",
      "\n",
      "0.496687650680542 0.6037352681159973\n",
      "person0\n",
      "\n",
      "0.4922915995121002 0.6000261306762695\n",
      "person0\n",
      "\n",
      "0.48779454827308655 0.6047240495681763\n",
      "person0\n",
      "\n",
      "0.4986061453819275 0.603029727935791\n",
      "person0\n",
      "\n",
      "0.49804699420928955 0.6059335470199585\n",
      "person0\n",
      "\n",
      "0.5049369931221008 0.6062886714935303\n",
      "person0\n",
      "\n",
      "0.4957258403301239 0.6030329465866089\n",
      "person0\n",
      "\n",
      "0.5061467885971069 0.6044251322746277\n",
      "person0\n",
      "\n",
      "0.5002294182777405 0.6011704802513123\n",
      "person0\n",
      "\n",
      "0.5009040236473083 0.6033929586410522\n",
      "person0\n",
      "\n",
      "0.5008118152618408 0.6042522192001343\n",
      "person0\n",
      "\n",
      "0.503546953201294 0.6011324524879456\n",
      "person0\n",
      "\n",
      "0.495888888835907 0.6043959259986877\n",
      "person0\n",
      "\n",
      "0.5018221735954285 0.6050295829772949\n",
      "person0\n",
      "\n",
      "0.49672192335128784 0.6057581305503845\n",
      "person0\n",
      "\n",
      "0.4985727071762085 0.602702796459198\n",
      "person0\n",
      "\n",
      "0.49490177631378174 0.6044299006462097\n",
      "person0\n",
      "\n",
      "0.497570276260376 0.6005976796150208\n",
      "person0\n",
      "\n",
      "0.5038759112358093 0.6026290059089661\n",
      "person0\n",
      "\n",
      "0.5000713467597961 0.6060279011726379\n",
      "person0\n",
      "\n",
      "0.49957966804504395 0.6046982407569885\n",
      "person0\n",
      "\n",
      "0.5035220980644226 0.6076201796531677\n",
      "person0\n",
      "\n",
      "0.5049575567245483 0.6072467565536499\n",
      "person0\n",
      "\n",
      "0.4908374547958374 0.6085096597671509\n",
      "person0\n",
      "\n",
      "0.5001979470252991 0.6104006767272949\n",
      "person0\n",
      "\n",
      "0.5010883808135986 0.602942168712616\n",
      "person0\n",
      "\n",
      "0.5069286227226257 0.6058202981948853\n",
      "person0\n",
      "\n",
      "0.4980429708957672 0.6029468774795532\n",
      "person0\n",
      "\n",
      "0.5015342235565186 0.601920485496521\n",
      "person0\n",
      "\n",
      "0.5024531483650208 0.6048175692558289\n",
      "person0\n",
      "\n",
      "0.5019358992576599 0.6044220924377441\n",
=======
      "0.3800290822982788 0.5017587542533875\n",
      "person0\n",
      "\n",
      "0.37878337502479553 0.5202497243881226\n",
      "person0\n",
      "\n",
      "0.3872085511684418 0.5024991035461426\n",
      "person0\n",
      "\n",
      "0.37401819229125977 0.5105522274971008\n",
      "person0\n",
      "\n",
      "0.37195485830307007 0.5006930232048035\n",
      "person0\n",
      "\n",
      "0.3748292326927185 0.5002872347831726\n",
      "person0\n",
      "\n",
      "0.3722389042377472 0.5002235770225525\n",
>>>>>>> cd0fc276d75877804404e2c53ac6e47cef3cadc7
      "person0\n",
      "\n"
     ]
    }
   ],
   "source": [
    "cap=cv2.VideoCapture(0) # 0 stands for very first webcam attach\n",
    "with detection_graph.as_default():\n",
    "  with tf.compat.v1.Session(graph=detection_graph) as sess:\n",
    "    ret=True\n",
    "    \n",
    "    while (ret):\n",
    "        ret, image_np=cap.read() \n",
    "        # Definite input and output Tensors for detection_graph\n",
    "        image_tensor = detection_graph.get_tensor_by_name('image_tensor:0')\n",
    "        # Each box represents a part of the image where a particular object was detected.\n",
    "        detection_boxes = detection_graph.get_tensor_by_name('detection_boxes:0')\n",
    "        # Each score represent how level of confidence for each of the objects.\n",
    "        # Score is shown on the result image, together with the class label.\n",
    "        detection_scores = detection_graph.get_tensor_by_name('detection_scores:0')\n",
    "        detection_classes = detection_graph.get_tensor_by_name('detection_classes:0')\n",
    "        num_detections = detection_graph.get_tensor_by_name('num_detections:0')\n",
    "       \n",
    "          # Expand dimensions since the model expects images to have shape: [1, None, None, 3]\n",
    "        image_np_expanded = np.expand_dims(image_np, axis=0)\n",
    "          # Actual detection.\n",
    "        (boxes, scores, classes, num) = sess.run(\n",
    "              [detection_boxes, detection_scores, detection_classes, num_detections],\n",
    "              feed_dict={image_tensor: image_np_expanded})\n",
    "          # Visualization of the results of a detection.\n",
    "        vis_util.visualize_boxes_and_labels_on_image_array(\n",
    "              image_np,\n",
    "              np.squeeze(boxes),\n",
    "              np.squeeze(classes).astype(np.int32),\n",
    "              np.squeeze(scores),\n",
    "              category_index,\n",
    "              use_normalized_coordinates=True,\n",
    "              line_thickness=8)\n",
    "        \n",
    "        for index, value in enumerate(classes[0]):\n",
    "            ymin = boxes[0][index][0]\n",
    "            xmin = boxes[0][index][1]\n",
    "            ymax = boxes[0][index][2]\n",
    "            xmax = boxes[0][index][3]\n",
    "            class_name = (category_index.get(value)).get('name')\n",
    "            widthvalue = int((xmax - xmin) / 2)  # width 길이\n",
    "            heightvalue = int((ymax - ymin) / 2)  # height 길이\n",
    "            if ((class_name == \"person\" or class_name == \"car\") and scores[0, index] > 0.80) :\n",
    "                print((xmin + xmax) / 2, (ymin + ymax) / 2)\n",
    "                print(class_name  + str(index) + \"\\n\")\n",
    "                \n",
    "        cv2.imshow('streaming version', image_np)\n",
    "        if cv2.waitKey(25) & 0xFF==ord('q'):\n",
    "            break\n",
    "        \n",
    "    cv2.destroyAllWindows()\n",
    "    cap.release()"
   ]
  }
 ],
 "metadata": {
  "kernelspec": {
   "display_name": "Python 3",
   "language": "python",
   "name": "python3"
  },
  "language_info": {
   "codemirror_mode": {
    "name": "ipython",
    "version": 3
   },
   "file_extension": ".py",
   "mimetype": "text/x-python",
   "name": "python",
   "nbconvert_exporter": "python",
   "pygments_lexer": "ipython3",
<<<<<<< HEAD
   "version": "3.7.6"
=======
   "version": "3.7.3"
>>>>>>> cd0fc276d75877804404e2c53ac6e47cef3cadc7
  }
 },
 "nbformat": 4,
 "nbformat_minor": 2
}
