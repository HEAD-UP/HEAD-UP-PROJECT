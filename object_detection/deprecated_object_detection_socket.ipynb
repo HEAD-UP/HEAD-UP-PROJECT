{
 "cells": [
  {
   "cell_type": "markdown",
   "metadata": {},
   "source": [
    "# Imports"
   ]
  },
  {
   "cell_type": "code",
   "execution_count": 1,
   "metadata": {
    "scrolled": true
   },
   "outputs": [],
   "source": [
    "import numpy as np\n",
    "import os\n",
    "import six.moves.urllib as urllib\n",
    "import sys\n",
    "import tarfile\n",
    "import tensorflow as tf\n",
    "import zipfile\n",
    "import cv2\n",
    "import json\n",
    "import time\n",
    "import asyncio\n",
    "\n",
    "from collections import defaultdict\n",
    "from io import StringIO\n",
    "from matplotlib import pyplot as plt\n",
    "from PIL import Image\n",
    "\n",
    "if tf.__version__ < '1.4.0':\n",
    "  raise ImportError('Please upgrade your tensorflow installation to v1.4.* or later!')\n"
   ]
  },
  {
   "cell_type": "markdown",
   "metadata": {},
   "source": [
    "## Env setup"
   ]
  },
  {
   "cell_type": "code",
   "execution_count": 2,
   "metadata": {},
   "outputs": [],
   "source": [
    "# This is needed to display the images.\n",
    "%matplotlib inline\n",
    "\n",
    "# This is needed since the notebook is stored in the object_detection folder.\n",
    "sys.path.append(\"..\")"
   ]
  },
  {
   "cell_type": "markdown",
   "metadata": {},
   "source": [
    "## Object detection imports\n",
    "Here are the imports from the object detection module."
   ]
  },
  {
   "cell_type": "code",
   "execution_count": 3,
   "metadata": {},
   "outputs": [],
   "source": [
    "from utils import label_map_util\n",
    "\n",
    "from utils import visualization_utils as vis_util"
   ]
  },
  {
   "cell_type": "markdown",
   "metadata": {},
   "source": [
    "# Model preparation "
   ]
  },
  {
   "cell_type": "markdown",
   "metadata": {},
   "source": [
    "## Variables\n",
    "\n",
    "Any model exported using the `export_inference_graph.py` tool can be loaded here simply by changing `PATH_TO_CKPT` to point to a new .pb file.  \n",
    "\n",
    "By default we use an \"SSD with Mobilenet\" model here. See the [detection model zoo](https://github.com/tensorflow/models/blob/master/research/object_detection/g3doc/detection_model_zoo.md) for a list of other models that can be run out-of-the-box with varying speeds and accuracies."
   ]
  },
  {
   "cell_type": "code",
   "execution_count": 4,
   "metadata": {},
   "outputs": [],
   "source": [
    "# What model to download.\n",
    "MODEL_NAME = 'ssd_mobilenet_v1_coco_2017_11_17'\n",
    "#ODEL_FILE = MODEL_NAME + '.tar.gz'\n",
    "#OWNLOAD_BASE = 'http://download.tensorflow.org/models/object_detection/'\n",
    "\n",
    "# Path to frozen detection graph. This is the actual model that is used for the object detection.\n",
    "PATH_TO_CKPT = MODEL_NAME + '/frozen_inference_graph.pb'\n",
    "\n",
    "# List of the strings that is used to add correct label for each box.\n",
    "PATH_TO_LABELS = os.path.join('data', 'mscoco_label_map.pbtxt')\n",
    "\n",
    "NUM_CLASSES = 90"
   ]
  },
  {
   "cell_type": "markdown",
   "metadata": {},
   "source": [
    "## Download Model"
   ]
  },
  {
   "cell_type": "markdown",
   "metadata": {},
   "source": [
    "opener = urllib.request.URLopener()\n",
    "opener.retrieve(DOWNLOAD_BASE + MODEL_FILE, MODEL_FILE)\n",
    "tar_file = tarfile.open(MODEL_FILE)\n",
    "for file in tar_file.getmembers():\n",
    "  file_name = os.path.basename(file.name)\n",
    "  if 'frozen_inference_graph.pb' in file_name:\n",
    "    tar_file.extract(file, os.getcwd())"
   ]
  },
  {
   "cell_type": "markdown",
   "metadata": {},
   "source": [
    "## Load a (frozen) Tensorflow model into memory."
   ]
  },
  {
   "cell_type": "code",
   "execution_count": 5,
   "metadata": {},
   "outputs": [],
   "source": [
    "detection_graph = tf.Graph()\n",
    "with detection_graph.as_default():\n",
    "    od_graph_def = tf.compat.v1.GraphDef()\n",
    "    with tf.io.gfile.GFile(PATH_TO_CKPT, 'rb') as fid:\n",
    "        serialized_graph = fid.read()\n",
    "        od_graph_def.ParseFromString(serialized_graph)\n",
    "        tf.import_graph_def(od_graph_def, name='')"
   ]
  },
  {
   "cell_type": "markdown",
   "metadata": {},
   "source": [
    "## Loading label map\n",
    "Label maps map indices to category names, so that when our convolution network predicts `5`, we know that this corresponds to `airplane`.  Here we use internal utility functions, but anything that returns a dictionary mapping integers to appropriate string labels would be fine"
   ]
  },
  {
   "cell_type": "code",
   "execution_count": 6,
   "metadata": {},
   "outputs": [],
   "source": [
    "label_map = label_map_util.load_labelmap(PATH_TO_LABELS)\n",
    "categories = label_map_util.convert_label_map_to_categories(label_map, max_num_classes=NUM_CLASSES, use_display_name=True)\n",
    "category_index = label_map_util.create_category_index(categories)"
   ]
  },
  {
   "cell_type": "markdown",
   "metadata": {},
   "source": [
    "# Object tracking function"
   ]
  },
  {
   "cell_type": "code",
   "execution_count": 7,
   "metadata": {},
   "outputs": [],
   "source": [
    "def set_baseline(x1, y1, x2, y2):\n",
    "    return y2 - y1, x1 - x2, x2 * y1 - x1 * y2"
   ]
  },
  {
   "cell_type": "code",
   "execution_count": 8,
   "metadata": {},
   "outputs": [],
   "source": [
    "def get_distance_from_line(x1, y1, a, b, c):\n",
    "    return (a*x1 + b*y1 + c) / (((a ** 2) + (b ** 2)) ** 0.5)"
   ]
  },
  {
   "cell_type": "markdown",
   "metadata": {},
   "source": [
    "# Baseline setting function"
   ]
  },
  {
   "cell_type": "code",
   "execution_count": 9,
   "metadata": {},
   "outputs": [],
   "source": [
    "baseline_x = []\n",
    "baseline_y = []\n",
    "mouse_count = 2\n",
    "\n",
    "def get_mouse_click_location(event, x, y, flags, param):\n",
    "    global mouse_count, a, b, c\n",
    "    if (mouse_count > 0 and event == cv2.EVENT_LBUTTONDOWN):\n",
    "        baseline_x.append(x)\n",
    "        baseline_y.append(y)\n",
    "        mouse_count = mouse_count - 1\n",
    "        if (mouse_count == 0):\n",
    "            a, b, c = set_baseline(baseline_x[0] * 0.001, baseline_y[0] * 0.001, baseline_x[1] * 0.001, baseline_y[1] * 0.001)"
   ]
  },
  {
   "cell_type": "markdown",
   "metadata": {},
   "source": [
    "# Waring signal function"
   ]
  },
  {
   "cell_type": "code",
   "execution_count": 10,
   "metadata": {},
   "outputs": [],
   "source": [
    "standard_distance = 0.03\n",
    "\n",
    "def send_warning_signal(input_distance, input_class):\n",
    "    if standard_distance > input_distance:\n",
    "        if input_class == 'person':\n",
    "            return 0\n",
    "        else:\n",
    "            return 1\n",
    "    return -1"
   ]
  },
  {
   "cell_type": "markdown",
   "metadata": {},
   "source": [
    "# Asyncio Setting"
   ]
  },
  {
   "cell_type": "code",
   "execution_count": 34,
   "metadata": {},
   "outputs": [],
   "source": [
    "reader, writer = await asyncio.open_connection( '192.168.219.107', 6974)"
   ]
  },
  {
   "cell_type": "markdown",
   "metadata": {},
   "source": [
    "# STORED VIDEO ONLY"
   ]
  },
  {
   "cell_type": "code",
   "execution_count": 35,
   "metadata": {
    "scrolled": true
   },
   "outputs": [],
   "source": [
    "inputVideo = '.\\\\video_samples\\\\s1_a.mp4'\n",
    "cap=cv2.VideoCapture(inputVideo)\n",
    "signal = -1\n",
    "\n",
    "time_signal = -1\n",
    "time_value = time.time()\n",
    "\n",
    "with detection_graph.as_default():\n",
    "  with tf.compat.v1.Session(graph=detection_graph) as sess:\n",
    "    ret=True\n",
    "    \n",
    "    while (ret):\n",
    "        ret, image_np=cap.read() \n",
    "        # Definite input and output Tensors for detection_graph\n",
    "        image_tensor = detection_graph.get_tensor_by_name('image_tensor:0')\n",
    "        # Each box represents a part of the image where a particular object was detected.\n",
    "        detection_boxes = detection_graph.get_tensor_by_name('detection_boxes:0')\n",
    "        # Each score represent how level of confidence for each of the objects.\n",
    "        # Score is shown on the result image, together with the class label.\n",
    "        detection_scores = detection_graph.get_tensor_by_name('detection_scores:0')\n",
    "        detection_classes = detection_graph.get_tensor_by_name('detection_classes:0')\n",
    "        num_detections = detection_graph.get_tensor_by_name('num_detections:0')\n",
    "       \n",
    "          # Expand dimensions since the model expects images to have shape: [1, None, None, 3]\n",
    "        image_np_expanded = np.expand_dims(image_np, axis=0)\n",
    "          # Actual detection.\n",
    "        (boxes, scores, classes, num) = sess.run(\n",
    "              [detection_boxes, detection_scores, detection_classes, num_detections],\n",
    "              feed_dict={image_tensor: image_np_expanded})\n",
    "          # Visualization of the results of a detection.\n",
    "        vis_util.visualize_boxes_and_labels_on_image_array(\n",
    "              image_np,\n",
    "              np.squeeze(boxes),\n",
    "              np.squeeze(classes).astype(np.int32),\n",
    "              np.squeeze(scores),\n",
    "              category_index,\n",
    "              use_normalized_coordinates=True,\n",
    "              line_thickness=8)\n",
    "        \n",
    "        if len(baseline_x) == 2:\n",
    "            cv2.imshow('stored version', cv2.line(image_np,(baseline_x[0], baseline_y[0]),(baseline_x[1], baseline_y[1]),(0,0,255),5))\n",
    "            \n",
    "            for index, value in enumerate(classes[0]):\n",
    "                ymin = boxes[0][index][0]\n",
    "                xmin = boxes[0][index][1]\n",
    "                ymax = boxes[0][index][2]\n",
    "                xmax = boxes[0][index][3]\n",
    "                class_name = (category_index.get(value)).get('name')\n",
    "                widthvalue = int((xmax - xmin) / 2)  # width 길이\n",
    "                heightvalue = int((ymax - ymin) / 2)  # height 길이\n",
    "                if ((class_name == \"person\" or class_name == \"car\") and scores[0, index] > 0.80) :\n",
    "                    get_distance_from_line((xmin + xmax) / 2, (ymin + ymax) / 2, a, b, c)\n",
    "                    signal = send_warning_signal(get_distance_from_line((xmin + xmax) / 2, (ymin + ymax) / 2, a, b, c), class_name)\n",
    "                    if signal >= 0 :\n",
    "                        if (signal >= time_signal):\n",
    "                            time_signal = signal\n",
    "                            time_value = time.time()\n",
    "\n",
    "        if (time.time() - time_value < 1):\n",
    "            signal = time_signal\n",
    "        else :\n",
    "            time_signal = -1\n",
    "            time_value = 0\n",
    "            \n",
    "        Camera_data = {\n",
    "            'Camera_ID' : 1,\n",
    "            'Value' : signal\n",
    "        }\n",
    "        \n",
    "        message = json.dumps(Camera_data) + \"\\n\"        \n",
    "        writer.write(message.encode())\n",
    "        await writer.drain()\n",
    "        signal = -1\n",
    "        \n",
    "        cv2.imshow('stored version', image_np)\n",
    "        \n",
    "        # Mouse Click 좌표를 위한 함수\n",
    "        cv2.setMouseCallback('stored version', get_mouse_click_location)\n",
    "        \n",
    "        if cv2.waitKey(25) & 0xFF==ord('q'): #waitKey( 내부의 값이 작아지면 CPU 의 부담은 커지는데 비해 처리속도는 빨라짐 )\n",
    "            break\n",
    "\n",
    "        # 저장된 비디오의 경우 한정\n",
    "        if(cap.get(cv2.CAP_PROP_POS_FRAMES) == cap.get(cv2.CAP_PROP_FRAME_COUNT)):\n",
    "            break\n",
    "            \n",
    "            \n",
    "    writer.close()    \n",
    "    await writer.wait_closed()    \n",
    "    cv2.destroyAllWindows()\n",
    "    cap.release()"
   ]
  },
  {
   "cell_type": "markdown",
   "metadata": {},
   "source": [
    "# STREAMING ONLY"
   ]
  },
  {
   "cell_type": "code",
   "execution_count": 11,
   "metadata": {},
   "outputs": [
    {
     "name": "stdout",
     "output_type": "stream",
     "text": [
      "0.5792062282562256 0.6157652735710144\n",
      "person0\n",
      "\n",
      "0.5761924386024475 0.6175026893615723\n",
      "person0\n",
      "\n",
      "0.5787792801856995 0.6159119606018066\n",
      "person0\n",
      "\n",
      "0.5779803395271301 0.6162577867507935\n",
      "person0\n",
      "\n",
      "0.5772362947463989 0.6168587803840637\n",
      "person0\n",
      "\n",
      "0.5756396055221558 0.6162172555923462\n",
      "person0\n",
      "\n",
      "0.5786385536193848 0.614600658416748\n",
      "person0\n",
      "\n",
      "0.5755528807640076 0.6174510717391968\n",
      "person0\n",
      "\n",
      "0.5741474032402039 0.6160492897033691\n",
      "person0\n",
      "\n",
      "0.576866865158081 0.6150716543197632\n",
      "person0\n",
      "\n",
      "0.576814591884613 0.6145763993263245\n",
      "person0\n",
      "\n",
      "0.5753225088119507 0.6179227828979492\n",
      "person0\n",
      "\n",
      "0.5763444900512695 0.6158076524734497\n",
      "person0\n",
      "\n",
      "0.5753112435340881 0.6182451844215393\n",
      "person0\n",
      "\n",
      "0.5769355893135071 0.6166581511497498\n",
      "person0\n",
      "\n",
      "0.5777291655540466 0.6162953972816467\n",
      "person0\n",
      "\n",
      "0.5758413672447205 0.6178328394889832\n",
      "person0\n",
      "\n",
      "0.5781272649765015 0.6167515516281128\n",
      "person0\n",
      "\n",
      "0.577896773815155 0.6172510385513306\n",
      "person0\n",
      "\n",
      "0.5758306384086609 0.6179730892181396\n",
      "person0\n",
      "\n",
      "0.5752586126327515 0.6180391907691956\n",
      "person0\n",
      "\n",
      "0.5758127570152283 0.6193996667861938\n",
      "person0\n",
      "\n",
      "0.5768206119537354 0.6180834770202637\n",
      "person0\n",
      "\n",
      "0.5754796266555786 0.6179102063179016\n",
      "person0\n",
      "\n",
      "0.576134204864502 0.6171079277992249\n",
      "person0\n",
      "\n",
      "0.5772316455841064 0.6161178350448608\n",
      "person0\n",
      "\n",
      "0.5770854949951172 0.6166567206382751\n",
      "person0\n",
      "\n",
      "0.5753143429756165 0.6159812211990356\n",
      "person0\n",
      "\n",
      "0.5741986632347107 0.6207521557807922\n",
      "person0\n",
      "\n",
      "0.5707576870918274 0.6212586164474487\n",
      "person0\n",
      "\n",
      "0.5769416093826294 0.6215059161186218\n",
      "person0\n",
      "\n",
      "0.5743287801742554 0.6194643974304199\n",
      "person0\n",
      "\n",
      "0.5759167671203613 0.6187583804130554\n",
      "person0\n",
      "\n",
      "0.5767503976821899 0.6190168857574463\n",
      "person0\n",
      "\n",
      "0.5747038125991821 0.6205853223800659\n",
      "person0\n",
      "\n",
      "0.5748493671417236 0.6203129291534424\n",
      "person0\n",
      "\n",
      "0.5762090682983398 0.6196094155311584\n",
      "person0\n",
      "\n",
      "0.5761120319366455 0.6195404529571533\n",
      "person0\n",
      "\n",
      "0.5761252641677856 0.6174221634864807\n",
      "person0\n",
      "\n",
      "0.5759234428405762 0.6188573837280273\n",
      "person0\n",
      "\n",
      "0.5765376687049866 0.6180222034454346\n",
      "person0\n",
      "\n",
      "0.5754377245903015 0.6182247996330261\n",
      "person0\n",
      "\n",
      "0.5766191482543945 0.6172894835472107\n",
      "person0\n",
      "\n",
      "0.5753177404403687 0.6173384785652161\n",
      "person0\n",
      "\n",
      "0.574847936630249 0.6182249784469604\n",
      "person0\n",
      "\n",
      "0.5746291279792786 0.6166598796844482\n",
      "person0\n",
      "\n",
      "0.5748125314712524 0.6200076341629028\n",
      "person0\n",
      "\n",
      "0.5726279020309448 0.6176535487174988\n",
      "person0\n",
      "\n",
      "0.5729572176933289 0.6176463961601257\n",
      "person0\n",
      "\n",
      "0.5758424997329712 0.6186348795890808\n",
      "person0\n",
      "\n",
      "0.5762701630592346 0.6180224418640137\n",
      "person0\n",
      "\n",
      "0.577503502368927 0.6169076561927795\n",
      "person0\n",
      "\n",
      "0.5768866539001465 0.6169195771217346\n",
      "person0\n",
      "\n",
      "0.5785305500030518 0.6197129487991333\n",
      "person0\n",
      "\n",
      "0.5763325691223145 0.6186384558677673\n",
      "person0\n",
      "\n",
      "0.5760685205459595 0.6194674968719482\n",
      "person0\n",
      "\n",
      "0.5771658420562744 0.6170824766159058\n",
      "person0\n",
      "\n",
      "0.5763375759124756 0.6165890097618103\n",
      "person0\n",
      "\n",
      "0.5793681144714355 0.6174675822257996\n",
      "person0\n",
      "\n"
     ]
    }
   ],
   "source": [
    "cap=cv2.VideoCapture(0) # 0 stands for very first webcam attach\n",
    "with detection_graph.as_default():\n",
    "  with tf.compat.v1.Session(graph=detection_graph) as sess:\n",
    "    ret=True\n",
    "    \n",
    "    while (ret):\n",
    "        ret, image_np=cap.read() \n",
    "        # Definite input and output Tensors for detection_graph\n",
    "        image_tensor = detection_graph.get_tensor_by_name('image_tensor:0')\n",
    "        # Each box represents a part of the image where a particular object was detected.\n",
    "        detection_boxes = detection_graph.get_tensor_by_name('detection_boxes:0')\n",
    "        # Each score represent how level of confidence for each of the objects.\n",
    "        # Score is shown on the result image, together with the class label.\n",
    "        detection_scores = detection_graph.get_tensor_by_name('detection_scores:0')\n",
    "        detection_classes = detection_graph.get_tensor_by_name('detection_classes:0')\n",
    "        num_detections = detection_graph.get_tensor_by_name('num_detections:0')\n",
    "       \n",
    "          # Expand dimensions since the model expects images to have shape: [1, None, None, 3]\n",
    "        image_np_expanded = np.expand_dims(image_np, axis=0)\n",
    "          # Actual detection.\n",
    "        (boxes, scores, classes, num) = sess.run(\n",
    "              [detection_boxes, detection_scores, detection_classes, num_detections],\n",
    "              feed_dict={image_tensor: image_np_expanded})\n",
    "          # Visualization of the results of a detection.\n",
    "        vis_util.visualize_boxes_and_labels_on_image_array(\n",
    "              image_np,\n",
    "              np.squeeze(boxes),\n",
    "              np.squeeze(classes).astype(np.int32),\n",
    "              np.squeeze(scores),\n",
    "              category_index,\n",
    "              use_normalized_coordinates=True,\n",
    "              line_thickness=8)\n",
    "        \n",
    "        for index, value in enumerate(classes[0]):\n",
    "            ymin = boxes[0][index][0]\n",
    "            xmin = boxes[0][index][1]\n",
    "            ymax = boxes[0][index][2]\n",
    "            xmax = boxes[0][index][3]\n",
    "            class_name = (category_index.get(value)).get('name')\n",
    "            widthvalue = int((xmax - xmin) / 2)  # width 길이\n",
    "            heightvalue = int((ymax - ymin) / 2)  # height 길이\n",
    "            if ((class_name == \"person\" or class_name == \"car\") and scores[0, index] > 0.80) :\n",
    "                print((xmin + xmax) / 2, (ymin + ymax) / 2)\n",
    "                print(class_name  + str(index) + \"\\n\")\n",
    "                \n",
    "        cv2.imshow('streaming version', image_np)\n",
    "        if cv2.waitKey(25) & 0xFF==ord('q'):\n",
    "            break\n",
    "        \n",
    "    cv2.destroyAllWindows()\n",
    "    cap.release()"
   ]
  }
 ],
 "metadata": {
  "kernelspec": {
   "display_name": "Python 3",
   "language": "python",
   "name": "python3"
  },
  "language_info": {
   "codemirror_mode": {
    "name": "ipython",
    "version": 3
   },
   "file_extension": ".py",
   "mimetype": "text/x-python",
   "name": "python",
   "nbconvert_exporter": "python",
   "pygments_lexer": "ipython3",
   "version": "3.7.7"
  }
 },
 "nbformat": 4,
 "nbformat_minor": 2
}
